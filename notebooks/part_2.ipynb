{
 "cells": [
  {
   "cell_type": "markdown",
   "id": "7f91a4c0",
   "metadata": {},
   "source": [
    "# Bridging Neural Dynamics: extending TRFs - Part 2 \n",
    "\n",
    "[![Binder](https://mybinder.org/badge_logo.svg)](https://mybinder.org/v2/gh/Hugo-W/CNSP25_tutorial_HWeissbart/main/)\n",
    "[![Open In Colab](https://colab.research.google.com/assets/colab-badge.svg)](https://colab.research.google.com/github/Hugo-W/CNSP25_tutorial_HWeissbart/blob/main/notebooks/part_2.ipynb)\n",
    "\n",
    "\n",
    "This time let's load some real MEG data and try our freshly designed feature-based Phase-Amplitude Coupling extraction. If time allows, will move onto trying to disentangle brain response to acoustic edges around uncertain vs more certain words, to see whether top-down linguistic information affects lower level envelope tracking."
   ]
  },
  {
   "cell_type": "markdown",
   "id": "23e3fd99",
   "metadata": {},
   "source": [
    "### Setup (Google Colab only)\n",
    "\n",
    "> We need an extra step to make sure widgets can work in Collab notebooks, uncomment and run the cell bellow if using Google Collab, otherwise just skip this."
   ]
  },
  {
   "cell_type": "code",
   "execution_count": null,
   "id": "9ddc2815",
   "metadata": {},
   "outputs": [],
   "source": [
    "try:\n",
    "  import google.colab # type: ignore\n",
    "  IN_COLAB = True\n",
    "except:\n",
    "  IN_COLAB = False\n",
    "\n",
    "if IN_COLAB:\n",
    "    %pip install -q ipywidgets ipympl\n",
    "    %pip install -q natmeeg"
   ]
  },
  {
   "cell_type": "code",
   "execution_count": null,
   "id": "cc02e0cb",
   "metadata": {},
   "outputs": [],
   "source": [
    "import sys\n",
    "if IN_COLAB and 'natmeeg' not in sys.modules:\n",
    "    print(\"🔁 Restarting kernel to use newly installed packages...\")\n",
    "    get_ipython().kernel.do_shutdown(True) # type: ignore"
   ]
  },
  {
   "cell_type": "code",
   "execution_count": null,
   "id": "eec3b57a",
   "metadata": {},
   "outputs": [],
   "source": [
    "# Download `utils`\n",
    "if IN_COLAB:\n",
    "    import requests\n",
    "    import os\n",
    "\n",
    "    files = ['__init__.py', 'helpers.py', 'surrogate.py', 'visu.py', 'utils.py']\n",
    "    # Create utils directory if it doesn't exist\n",
    "    os.makedirs('utils', exist_ok=True)\n",
    "    for f in files:\n",
    "        url = f'https://raw.githubusercontent.com/Hugo-W/CNSP25_tutorial_HWeissbart/main/utils/{f}'\n",
    "        response = requests.get(url)\n",
    "\n",
    "        with open(f'utils/{f}', 'wb') as f:\n",
    "            f.write(response.content)\n",
    "\n",
    "    from google.colab import output # type: ignore\n",
    "    output.enable_custom_widget_manager()"
   ]
  },
  {
   "cell_type": "markdown",
   "id": "79ea8ec5",
   "metadata": {},
   "source": [
    "## Imports and Data download\n",
    "\n",
    "First let's get all the libraries, data and path setup."
   ]
  },
  {
   "cell_type": "code",
   "execution_count": 1,
   "id": "f075932f",
   "metadata": {},
   "outputs": [],
   "source": [
    "import numpy as np\n",
    "import matplotlib.pyplot as plt\n",
    "from ipywidgets import VBox, HBox, HTML, HTMLMath, Checkbox, FloatSlider, IntSlider, Dropdown, interact, Button\n",
    "import tqdm.notebook as tqdm\n",
    "import sys, os\n",
    "# Add utils to Python path\n",
    "sys.path.append('..') # access to utils.py and visu.py modules\n",
    "from utils.utils import download_file, list_h5_data\n",
    "from utils.visu import plot_fft\n",
    "from utils.surrogate import (simulate_background_eeg, simulate_spike_events,\n",
    "                             simulate_smooth_signal, create_kernel)\n",
    "from utils.helpers import lowpass_filter, convolve_with_kernel, lag_matrix, lag_span, _svd_regress, svd_trf_estimation"
   ]
  },
  {
   "cell_type": "markdown",
   "id": "8df36835",
   "metadata": {},
   "source": [
    "The cell below will download the data if they are not already present in the `data/` folder."
   ]
  },
  {
   "cell_type": "code",
   "execution_count": 2,
   "id": "3196ab0a",
   "metadata": {},
   "outputs": [
    {
     "name": "stdout",
     "output_type": "stream",
     "text": [
      " ✅ File audioBook-filtered-ICAed-raw.fif already exists in the ../data/sub-001 directory.\n",
      " ✅ File audioBook-eve.fif already exists in the ../data/sub-001 directory.\n",
      " ✅ File noise-cov.fif already exists in the ../data/sub-001 directory.\n"
     ]
    }
   ],
   "source": [
    "data_dir = \"../data/\"\n",
    "files = {\n",
    "    \"sub-001/audioBook-filtered-ICAed-raw.fif\": \"https://osf.io/download/689ca8ab66c0f8121bd5a0fd/\",\n",
    "    \"sub-001/audioBook-eve.fif\": \"https://osf.io/download/d7phu/\",\n",
    "    \"sub-001/noise-cov.fif\": \"https://osf.io/download/689ca6fa89cdf5804c13c704/\",\n",
    "    \"stim/predictors.hdf5\": \"https://osf.io/download/68b3114c95a919eba5fe1c79/\"\n",
    "}\n",
    "# Bad channels: MLF12, MRC55, MRF61\n",
    "\n",
    "for file_name, url in files.items():\n",
    "    file_path = os.path.join(data_dir, file_name)\n",
    "    # Check if the data directory exists, if not create it\n",
    "    if not os.path.exists(data_dir):\n",
    "        os.makedirs(data_dir)\n",
    "\n",
    "    # Check if the file already exists\n",
    "    if not os.path.exists(file_path):\n",
    "        print(f\"{file_name} not found. Downloading... (this operation may take a couple of minutes depending on your connection)\")\n",
    "        download_file(url, file_path)\n",
    "    else:\n",
    "        print(f\" ✅ File {file_name} already exists in the {data_dir} directory.\")"
   ]
  },
  {
   "cell_type": "markdown",
   "id": "71ed185b",
   "metadata": {},
   "source": [
    "Let's have a look into the HDF5 file of stimulus features:"
   ]
  },
  {
   "cell_type": "code",
   "execution_count": null,
   "id": "426976f5",
   "metadata": {},
   "outputs": [
    {
     "name": "stdout",
     "output_type": "stream",
     "text": [
      "transcripts_v2\n",
      "├── 100\n",
      "│   ├── acoustic\n",
      "│   │   ├── ANGE_part1_normalized (27402,)\n",
      "│   │   ├── Anderson_S01_P01_normalized (29800,)\n",
      "│   │   ├── Anderson_S01_P02_normalized (31770,)\n",
      "│   │   ├── Anderson_S01_P03_normalized (28900,)\n",
      "│   │   ├── Anderson_S01_P04_normalized (35080,)\n",
      "│   │   ├── BALL_part1_normalized (29801,)\n",
      "│   │   ├── EAUV_part1_normalized (34382,)\n",
      "│   │   ├── EAUV_part2_normalized (36153,)\n",
      "│   │   ├── grimm_20_1_normalized (36659,)\n",
      "│   │   ├── grimm_20_2_normalized (40055,)\n",
      "│   │   ├── grimm_23_1_normalized (30309,)\n",
      "│   │   ├── grimm_23_2_normalized (33287,)\n",
      "│   │   ├── grimm_23_3_normalized (30292,)\n",
      "│   ├── wordlevel\n",
      "│   │   ├── ANGE_part1_normalized (27402, 9)\n",
      "│   │   ├── Anderson_S01_P01_normalized (29800, 9)\n",
      "│   │   ├── Anderson_S01_P02_normalized (31770, 9)\n",
      "│   │   ├── Anderson_S01_P03_normalized (28900, 9)\n",
      "│   │   ├── Anderson_S01_P04_normalized (35080, 9)\n",
      "│   │   ├── BALL_part1_normalized (29801, 9)\n",
      "│   │   ├── EAUV_part1_normalized (34382, 9)\n",
      "│   │   ├── EAUV_part2_normalized (36153, 9)\n",
      "│   │   ├── grimm_20_1_normalized (36659, 9)\n",
      "│   │   ├── grimm_20_2_normalized (40055, 9)\n",
      "│   │   ├── grimm_23_1_normalized (30309, 9)\n",
      "│   │   ├── grimm_23_2_normalized (33287, 9)\n",
      "│   │   ├── grimm_23_3_normalized (30292, 9)\n"
     ]
    }
   ],
   "source": [
    "list_h5_data(\"../data/stim/predictors.hdf5\", max_depth=4)"
   ]
  },
  {
   "cell_type": "markdown",
   "id": "d7eca2d8",
   "metadata": {},
   "source": [
    "We can see that the stimulus feature file `predictors.hdf5` contains a matrix of feature per story, organised under two keys: `acoustic` and `wordlevel`. The former contains the smooth continuous feature (only envelop here), while the latter contains impulse-like time series of word-level features. \n",
    "\n",
    "We can also observe that word level features are matrices with 9 columns. These map to the following features:\n",
    "- Word Onsets\n",
    "- Word frequency\n",
    "- Surprisal\n",
    "- Entropy\n",
    "- KL divergence\n",
    "- Prediction error (surprisal weighted by precision, with precision ~1/entropy)\n",
    "- Depth\n",
    "- Close\n",
    "- Open"
   ]
  },
  {
   "cell_type": "markdown",
   "id": "2e196c7a",
   "metadata": {},
   "source": [
    "## Read in stimulus features"
   ]
  },
  {
   "cell_type": "code",
   "execution_count": 14,
   "id": "52997309",
   "metadata": {},
   "outputs": [],
   "source": [
    "import mne\n",
    "import numpy as np"
   ]
  },
  {
   "cell_type": "code",
   "execution_count": 11,
   "id": "0180f20e",
   "metadata": {},
   "outputs": [
    {
     "name": "stdout",
     "output_type": "stream",
     "text": [
      "Opening raw data file ../data/sub-001/audioBook-filtered-ICAed-raw.fif...\n",
      "    Read 5 compensation matrices\n",
      "    Range : 89737 ... 1132892 =    448.685 ...  5664.460 secs\n",
      "Ready.\n",
      "Current compensation grade : 0\n",
      "Reading 0 ... 1043155  =      0.000 ...  5215.775 secs...\n",
      "NOTE: pick_types() is a legacy function. New code should use inst.pick(...).\n",
      "Removing 5 compensators from info because not all compensation channels were picked.\n",
      "(269, 1043156)\n"
     ]
    }
   ],
   "source": [
    "raw = mne.io.read_raw('../data/sub-001/audioBook-filtered-ICAed-raw.fif', preload=True)\n",
    "raw = raw.pick_types(meg=True, ref_meg=False)\n",
    "events = mne.read_events('../data/sub-001/audioBook-eve.fif')\n",
    "print(raw._data.shape)"
   ]
  },
  {
   "cell_type": "code",
   "execution_count": 15,
   "id": "cf026d55",
   "metadata": {},
   "outputs": [],
   "source": [
    "def normalize_complex(sig):\n",
    "    return sig/np.abs(sig)"
   ]
  },
  {
   "cell_type": "code",
   "execution_count": null,
   "id": "852b64c7",
   "metadata": {},
   "outputs": [
    {
     "name": "stdout",
     "output_type": "stream",
     "text": [
      "Filtering raw data in 1 contiguous segment\n",
      "Setting up band-pass filter from 4 - 7 Hz\n",
      "\n",
      "FIR filter parameters\n",
      "---------------------\n",
      "Designing a one-pass, zero-phase, non-causal bandpass filter:\n",
      "- Windowed time-domain design (firwin) method\n",
      "- Hamming window with 0.0194 passband ripple and 53 dB stopband attenuation\n",
      "- Lower passband edge: 4.00\n",
      "- Lower transition bandwidth: 2.00 Hz (-6 dB cutoff frequency: 3.00 Hz)\n",
      "- Upper passband edge: 7.00 Hz\n",
      "- Upper transition bandwidth: 2.00 Hz (-6 dB cutoff frequency: 8.00 Hz)\n",
      "- Filter length: 165 samples (1.650 s)\n",
      "\n"
     ]
    },
    {
     "name": "stderr",
     "output_type": "stream",
     "text": [
      "[Parallel(n_jobs=1)]: Done  17 tasks      | elapsed:    0.2s\n",
      "[Parallel(n_jobs=1)]: Done  71 tasks      | elapsed:    1.2s\n",
      "[Parallel(n_jobs=1)]: Done 161 tasks      | elapsed:    2.6s\n"
     ]
    },
    {
     "name": "stdout",
     "output_type": "stream",
     "text": [
      "Filtering raw data in 1 contiguous segment\n",
      "Setting up band-pass filter from 30 - 49 Hz\n",
      "\n",
      "FIR filter parameters\n",
      "---------------------\n",
      "Designing a one-pass, zero-phase, non-causal bandpass filter:\n",
      "- Windowed time-domain design (firwin) method\n",
      "- Hamming window with 0.0194 passband ripple and 53 dB stopband attenuation\n",
      "- Lower passband edge: 30.00\n",
      "- Lower transition bandwidth: 7.50 Hz (-6 dB cutoff frequency: 26.25 Hz)\n",
      "- Upper passband edge: 49.00 Hz\n",
      "- Upper transition bandwidth: 1.00 Hz (-6 dB cutoff frequency: 49.50 Hz)\n",
      "- Filter length: 331 samples (3.310 s)\n",
      "\n"
     ]
    },
    {
     "name": "stderr",
     "output_type": "stream",
     "text": [
      "[Parallel(n_jobs=1)]: Done  17 tasks      | elapsed:    0.1s\n",
      "[Parallel(n_jobs=1)]: Done  71 tasks      | elapsed:    0.7s\n",
      "[Parallel(n_jobs=1)]: Done 161 tasks      | elapsed:    2.3s\n"
     ]
    },
    {
     "ename": "NameError",
     "evalue": "name 'np' is not defined",
     "output_type": "error",
     "traceback": [
      "\u001b[31m---------------------------------------------------------------------------\u001b[39m",
      "\u001b[31mNameError\u001b[39m                                 Traceback (most recent call last)",
      "\u001b[36mCell\u001b[39m\u001b[36m \u001b[39m\u001b[32mIn[13]\u001b[39m\u001b[32m, line 9\u001b[39m\n\u001b[32m      7\u001b[39m phase_data = raw.copy().filter(l_freq=fphase_low, h_freq=fphase_high).apply_hilbert(envelope=\u001b[38;5;28;01mFalse\u001b[39;00m)\n\u001b[32m      8\u001b[39m amp_data = raw.copy().filter(l_freq=famp_low, h_freq=famp_high).apply_hilbert(envelope=\u001b[38;5;28;01mTrue\u001b[39;00m)\n\u001b[32m----> \u001b[39m\u001b[32m9\u001b[39m \u001b[43mphase_data\u001b[49m\u001b[43m.\u001b[49m\u001b[43mapply_function\u001b[49m\u001b[43m(\u001b[49m\u001b[43mnormalize_complex\u001b[49m\u001b[43m)\u001b[49m\n\u001b[32m     10\u001b[39m \u001b[38;5;66;03m# phase_data = mne.filter.filter_data(data=raw._data, sfreq=raw.info['sfreq'], l_freq=fphase_low, h_freq=fphase_high)\u001b[39;00m\n\u001b[32m     11\u001b[39m \u001b[38;5;66;03m# amp_data = mne.filter.filter_data(data=raw._data, sfreq=raw.info['sfreq'], l_freq=famp_low, h_freq=famp_high)\u001b[39;00m\n",
      "\u001b[36mFile \u001b[39m\u001b[32m<decorator-gen-191>:12\u001b[39m, in \u001b[36mapply_function\u001b[39m\u001b[34m(self, fun, picks, dtype, n_jobs, channel_wise, verbose, **kwargs)\u001b[39m\n",
      "\u001b[36mFile \u001b[39m\u001b[32mc:\\Users\\u937171\\AppData\\Local\\miniforge3\\envs\\meeg\\Lib\\site-packages\\mne\\io\\base.py:1126\u001b[39m, in \u001b[36mBaseRaw.apply_function\u001b[39m\u001b[34m(self, fun, picks, dtype, n_jobs, channel_wise, verbose, **kwargs)\u001b[39m\n\u001b[32m   1124\u001b[39m         \u001b[38;5;28;01mif\u001b[39;00m \u001b[33m\"\u001b[39m\u001b[33mch_name\u001b[39m\u001b[33m\"\u001b[39m \u001b[38;5;129;01min\u001b[39;00m args:\n\u001b[32m   1125\u001b[39m             kwargs.update(ch_name=\u001b[38;5;28mself\u001b[39m.info[\u001b[33m\"\u001b[39m\u001b[33mch_names\u001b[39m\u001b[33m\"\u001b[39m][ch_idx])\n\u001b[32m-> \u001b[39m\u001b[32m1126\u001b[39m         \u001b[38;5;28mself\u001b[39m._data[ch_idx, :] = \u001b[43m_check_fun\u001b[49m\u001b[43m(\u001b[49m\n\u001b[32m   1127\u001b[39m \u001b[43m            \u001b[49m\u001b[43mfun\u001b[49m\u001b[43m,\u001b[49m\u001b[43m \u001b[49m\u001b[43mdata_in\u001b[49m\u001b[43m[\u001b[49m\u001b[43mch_idx\u001b[49m\u001b[43m,\u001b[49m\u001b[43m \u001b[49m\u001b[43m:\u001b[49m\u001b[43m]\u001b[49m\u001b[43m,\u001b[49m\u001b[43m \u001b[49m\u001b[43m*\u001b[49m\u001b[43m*\u001b[49m\u001b[43mkwargs\u001b[49m\n\u001b[32m   1128\u001b[39m \u001b[43m        \u001b[49m\u001b[43m)\u001b[49m\n\u001b[32m   1129\u001b[39m \u001b[38;5;28;01melse\u001b[39;00m:\n\u001b[32m   1130\u001b[39m     \u001b[38;5;66;03m# use parallel function\u001b[39;00m\n\u001b[32m   1131\u001b[39m     data_picks_new = parallel(\n\u001b[32m   1132\u001b[39m         p_fun(\n\u001b[32m   1133\u001b[39m             fun,\n\u001b[32m   (...)\u001b[39m\u001b[32m   1145\u001b[39m         \u001b[38;5;28;01mfor\u001b[39;00m ch_idx \u001b[38;5;129;01min\u001b[39;00m picks\n\u001b[32m   1146\u001b[39m     )\n",
      "\u001b[36mFile \u001b[39m\u001b[32mc:\\Users\\u937171\\AppData\\Local\\miniforge3\\envs\\meeg\\Lib\\site-packages\\mne\\filter.py:2789\u001b[39m, in \u001b[36m_check_fun\u001b[39m\u001b[34m(fun, d, *args, **kwargs)\u001b[39m\n\u001b[32m   2787\u001b[39m \u001b[38;5;250m\u001b[39m\u001b[33;03m\"\"\"Check shapes.\"\"\"\u001b[39;00m\n\u001b[32m   2788\u001b[39m want_shape = d.shape\n\u001b[32m-> \u001b[39m\u001b[32m2789\u001b[39m d = \u001b[43mfun\u001b[49m\u001b[43m(\u001b[49m\u001b[43md\u001b[49m\u001b[43m,\u001b[49m\u001b[43m \u001b[49m\u001b[43m*\u001b[49m\u001b[43margs\u001b[49m\u001b[43m,\u001b[49m\u001b[43m \u001b[49m\u001b[43m*\u001b[49m\u001b[43m*\u001b[49m\u001b[43mkwargs\u001b[49m\u001b[43m)\u001b[49m\n\u001b[32m   2790\u001b[39m \u001b[38;5;28;01mif\u001b[39;00m \u001b[38;5;129;01mnot\u001b[39;00m \u001b[38;5;28misinstance\u001b[39m(d, np.ndarray):\n\u001b[32m   2791\u001b[39m     \u001b[38;5;28;01mraise\u001b[39;00m \u001b[38;5;167;01mTypeError\u001b[39;00m(\u001b[33m\"\u001b[39m\u001b[33mReturn value must be an ndarray\u001b[39m\u001b[33m\"\u001b[39m)\n",
      "\u001b[36mCell\u001b[39m\u001b[36m \u001b[39m\u001b[32mIn[12]\u001b[39m\u001b[32m, line 2\u001b[39m, in \u001b[36mnormalize_complex\u001b[39m\u001b[34m(sig)\u001b[39m\n\u001b[32m      1\u001b[39m \u001b[38;5;28;01mdef\u001b[39;00m\u001b[38;5;250m \u001b[39m\u001b[34mnormalize_complex\u001b[39m(sig):\n\u001b[32m----> \u001b[39m\u001b[32m2\u001b[39m     \u001b[38;5;28;01mreturn\u001b[39;00m sig/\u001b[43mnp\u001b[49m.abs(sig)\n",
      "\u001b[31mNameError\u001b[39m: name 'np' is not defined"
     ]
    }
   ],
   "source": [
    "# Lowband\n",
    "fphase_low, fphase_high = 4, 7\n",
    "# Hband\n",
    "famp_low, famp_high = 30, 49\n",
    "# Process\n",
    "raw = raw.resample(100)\n",
    "phase_data = raw.copy().filter(l_freq=fphase_low, h_freq=fphase_high).apply_hilbert(envelope=False)\n",
    "amp_data = raw.copy().filter(l_freq=famp_low, h_freq=famp_high).apply_hilbert(envelope=True)"
   ]
  },
  {
   "cell_type": "code",
   "execution_count": null,
   "id": "8ef29be9",
   "metadata": {},
   "outputs": [],
   "source": [
    "phase_data = phase_data.apply_function(normalize_complex)\n",
    "# phase_data = mne.filter.filter_data(data=raw._data, sfreq=raw.info['sfreq'], l_freq=fphase_low, h_freq=fphase_high)\n",
    "# amp_data = mne.filter.filter_data(data=raw._data, sfreq=raw.info['sfreq'], l_freq=famp_low, h_freq=famp_high)"
   ]
  },
  {
   "cell_type": "code",
   "execution_count": 19,
   "id": "26ea50fd",
   "metadata": {},
   "outputs": [],
   "source": [
    "analytical = phase_data.copy()\n",
    "analytical._data *= amp_data._data"
   ]
  },
  {
   "cell_type": "code",
   "execution_count": 20,
   "id": "ff6c5443",
   "metadata": {},
   "outputs": [],
   "source": [
    "del raw, amp_data, phase_data"
   ]
  },
  {
   "cell_type": "code",
   "execution_count": 22,
   "id": "0cb92f3f",
   "metadata": {},
   "outputs": [
    {
     "data": {
      "text/plain": [
       "array([[    600,       0,       2],\n",
       "       [   3109,       0,     112],\n",
       "       [  63726,       0,     212],\n",
       "       [  83430,       0,       2],\n",
       "       [  85779,       0,     122],\n",
       "       [ 152352,       0,     222],\n",
       "       [ 170725,       0,       2],\n",
       "       [ 173062,       0,     132],\n",
       "       [ 233645,       0,     232],\n",
       "       [ 250241,       0,       6],\n",
       "       [ 252581,       0,     116],\n",
       "       [ 312182,       0,     216],\n",
       "       [ 327883,       0,       5],\n",
       "       [ 330214,       0,     115],\n",
       "       [ 385016,       0,     215],\n",
       "       [ 398623,       0,       3],\n",
       "       [ 400985,       0,     113],\n",
       "       [ 474302,       0,     213],\n",
       "       [ 485500,       0,       3],\n",
       "       [ 487942,       0,     123],\n",
       "       [ 568051,       0,     223],\n",
       "       [ 578743,       0,       4],\n",
       "       [ 581097,       0,     114],\n",
       "       [ 649859,       0,     214],\n",
       "       [ 661679,       0,       4],\n",
       "       [ 664034,       0,     124],\n",
       "       [ 736338,       0,     224],\n",
       "       [ 747210,       0,       1],\n",
       "       [ 749628,       0,     111],\n",
       "       [ 809228,       0,     211],\n",
       "       [ 820136,       0,       1],\n",
       "       [ 822478,       0,     121],\n",
       "       [ 886018,       0,     221],\n",
       "       [ 898724,       0,       1],\n",
       "       [ 901055,       0,     131],\n",
       "       [ 958855,       0,     231],\n",
       "       [ 970045,       0,       1],\n",
       "       [ 972396,       0,     141],\n",
       "       [1042556,       0,     241]])"
      ]
     },
     "execution_count": 22,
     "metadata": {},
     "output_type": "execute_result"
    }
   ],
   "source": [
    "events"
   ]
  },
  {
   "cell_type": "markdown",
   "id": "7bc63999",
   "metadata": {},
   "source": [
    "## Read MEG data"
   ]
  }
 ],
 "metadata": {
  "kernelspec": {
   "display_name": "meeg",
   "language": "python",
   "name": "python3"
  },
  "language_info": {
   "codemirror_mode": {
    "name": "ipython",
    "version": 3
   },
   "file_extension": ".py",
   "mimetype": "text/x-python",
   "name": "python",
   "nbconvert_exporter": "python",
   "pygments_lexer": "ipython3",
   "version": "3.12.10"
  }
 },
 "nbformat": 4,
 "nbformat_minor": 5
}
