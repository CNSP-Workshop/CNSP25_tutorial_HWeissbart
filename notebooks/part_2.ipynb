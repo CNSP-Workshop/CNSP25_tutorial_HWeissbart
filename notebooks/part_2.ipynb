{
 "cells": [
  {
   "cell_type": "markdown",
   "id": "7f91a4c0",
   "metadata": {},
   "source": [
    "# Bridging Neural Dynamics: extending TRFs - Part 2 \n",
    "\n",
    "[![Binder](https://mybinder.org/badge_logo.svg)](https://mybinder.org/v2/gh/Hugo-W/CNSP25_tutorial_HWeissbart/main/)\n",
    "[![Open In Colab](https://colab.research.google.com/assets/colab-badge.svg)](https://colab.research.google.com/github/Hugo-W/CNSP25_tutorial_HWeissbart/blob/main/notebooks/part_2.ipynb)\n",
    "\n",
    "\n",
    "This time let's load some real MEG data and try our freshly designed feature-based Phase-Amplitude Coupling extraction. If time allows, will move onto trying to disentangle brain response to acoustic edges around uncertain vs more certain words, to see whether top-down linguistic information affects lower level envelope tracking."
   ]
  },
  {
   "cell_type": "markdown",
   "id": "23e3fd99",
   "metadata": {},
   "source": [
    "### Setup (Google Colab only)\n",
    "\n",
    "> We need an extra step to make sure widgets can work in Collab notebooks, uncomment and run the cell bellow if using Google Collab, otherwise just skip this."
   ]
  },
  {
   "cell_type": "code",
   "execution_count": null,
   "id": "9ddc2815",
   "metadata": {},
   "outputs": [],
   "source": [
    "try:\n",
    "  import google.colab # type: ignore\n",
    "  IN_COLAB = True\n",
    "except:\n",
    "  IN_COLAB = False\n",
    "\n",
    "if IN_COLAB:\n",
    "    %pip install -q ipywidgets ipympl\n",
    "    %pip install -q natmeeg mne\n",
    "    print(\"🔁 Restarting kernel to use newly installed packages... Just wait that the kernel restarts, then start by running the cell below.\")\n",
    "    get_ipython().kernel.do_shutdown(True) # type: ignore"
   ]
  },
  {
   "cell_type": "code",
   "execution_count": null,
   "id": "eec3b57a",
   "metadata": {},
   "outputs": [],
   "source": [
    "try:\n",
    "  import google.colab # type: ignore\n",
    "  IN_COLAB = True\n",
    "except:\n",
    "  IN_COLAB = False\n",
    "  \n",
    "# Download `utils`\n",
    "if IN_COLAB:\n",
    "    import requests\n",
    "    import os\n",
    "\n",
    "    files = ['__init__.py', 'helpers.py', 'surrogate.py', 'visu.py', 'utils.py']\n",
    "    # Create utils directory if it doesn't exist\n",
    "    os.makedirs('utils', exist_ok=True)\n",
    "    for f in files:\n",
    "        url = f'https://raw.githubusercontent.com/Hugo-W/CNSP25_tutorial_HWeissbart/main/utils/{f}'\n",
    "        response = requests.get(url)\n",
    "\n",
    "        with open(f'utils/{f}', 'wb') as f:\n",
    "            f.write(response.content)\n",
    "\n",
    "    # Also download mpl-tstyle:\n",
    "    url = 'https://raw.githubusercontent.com/Hugo-W/CNSP25_tutorial_HWeissbart/main/notebooks/dark.mplstyle'\n",
    "    response = requests.get(url)\n",
    "    with open('./dark.mplstyle', 'wb') as f:\n",
    "       f.write(response.content)\n",
    "\n",
    "    from google.colab import output # type: ignore\n",
    "    output.enable_custom_widget_manager()"
   ]
  },
  {
   "cell_type": "markdown",
   "id": "79ea8ec5",
   "metadata": {},
   "source": [
    "## Imports and Data download\n",
    "\n",
    "First let's get all the libraries, data and path setup."
   ]
  },
  {
   "cell_type": "code",
   "execution_count": 2,
   "id": "f075932f",
   "metadata": {},
   "outputs": [],
   "source": [
    "import numpy as np\n",
    "from numpy.typing import NDArray\n",
    "import matplotlib.pyplot as plt\n",
    "import tqdm.notebook as tqdm\n",
    "import sys, os\n",
    "from typing import List\n",
    "\n",
    "import mne\n",
    "\n",
    "# Add utils to Python path\n",
    "sys.path.append('..') # access to utils.py and visu.py modules\n",
    "from utils.utils import download_file, list_h5_data, normalize_complex\n",
    "\n",
    "dark_bg = True\n",
    "if dark_bg:\n",
    "    plt.style.use('dark.mplstyle')\n",
    "\n",
    "%matplotlib inline"
   ]
  },
  {
   "cell_type": "markdown",
   "id": "8df36835",
   "metadata": {},
   "source": [
    "The cell below will download the data if they are not already present in the `data/` folder."
   ]
  },
  {
   "cell_type": "code",
   "execution_count": null,
   "id": "3196ab0a",
   "metadata": {},
   "outputs": [
    {
     "name": "stdout",
     "output_type": "stream",
     "text": [
      " ✅ File sub-001/audioBook-filtered-ICAed-raw.fif already exists in the ../data/ directory.\n",
      " ✅ File sub-001/audioBook-eve.fif already exists in the ../data/ directory.\n",
      " ✅ File sub-001/noise-cov.fif already exists in the ../data/ directory.\n",
      " ✅ File stim/predictors.hdf5 already exists in the ../data/ directory.\n"
     ]
    }
   ],
   "source": [
    "data_dir = \"../data/\"\n",
    "files = {\n",
    "    \"sub-001/audioBook-filtered-ICAed-raw.fif\": \"https://osf.io/download/689ca8ab66c0f8121bd5a0fd/\",\n",
    "    \"sub-001/audioBook-eve.fif\": \"https://osf.io/download/d7phu/\",\n",
    "    \"sub-001/noise-cov.fif\": \"https://osf.io/download/689ca6fa89cdf5804c13c704/\",\n",
    "    \"stim/predictors.hdf5\": \"https://osf.io/download/68b3114c95a919eba5fe1c79/\"\n",
    "}\n",
    "# Bad channels: MLF12, MRC55, MRF61\n",
    "\n",
    "for file_name, url in files.items():\n",
    "    file_path = os.path.join(data_dir, file_name)\n",
    "    # Check if the data directory exists, if not create it\n",
    "    if not os.path.exists(os.path.join(data_dir, os.path.dirname(file_name))):\n",
    "        os.makedirs(os.path.join(data_dir, os.path.dirname(file_name)))\n",
    "\n",
    "    # Check if the file already exists\n",
    "    if not os.path.exists(file_path):\n",
    "        print(f\"{file_name} not found. Downloading...\")\n",
    "        download_file(url, file_path)\n",
    "    else:\n",
    "        print(f\" ✅ File {file_name} already exists in the {data_dir} directory.\")"
   ]
  },
  {
   "cell_type": "markdown",
   "id": "71ed185b",
   "metadata": {},
   "source": [
    "Let's have a look into the HDF5 file of stimulus features:"
   ]
  },
  {
   "cell_type": "code",
   "execution_count": 3,
   "id": "426976f5",
   "metadata": {},
   "outputs": [
    {
     "name": "stdout",
     "output_type": "stream",
     "text": [
      "transcripts_v2\n",
      "├── 100\n",
      "│   ├── acoustic\n",
      "│   │   ├── ANGE_part1_normalized (27402,)\n",
      "│   │   ├── Anderson_S01_P01_normalized (29800,)\n",
      "│   │   ├── Anderson_S01_P02_normalized (31770,)\n",
      "│   │   ├── Anderson_S01_P03_normalized (28900,)\n",
      "│   │   ├── Anderson_S01_P04_normalized (35080,)\n",
      "│   │   ├── BALL_part1_normalized (29801,)\n",
      "│   │   ├── EAUV_part1_normalized (34382,)\n",
      "│   │   ├── EAUV_part2_normalized (36153,)\n",
      "│   │   ├── grimm_20_1_normalized (36659,)\n",
      "│   │   ├── grimm_20_2_normalized (40055,)\n",
      "│   │   ├── grimm_23_1_normalized (30309,)\n",
      "│   │   ├── grimm_23_2_normalized (33287,)\n",
      "│   │   ├── grimm_23_3_normalized (30292,)\n",
      "│   ├── wordlevel\n",
      "│   │   ├── ANGE_part1_normalized (27402, 9)\n",
      "│   │   ├── Anderson_S01_P01_normalized (29800, 9)\n",
      "│   │   ├── Anderson_S01_P02_normalized (31770, 9)\n",
      "│   │   ├── Anderson_S01_P03_normalized (28900, 9)\n",
      "│   │   ├── Anderson_S01_P04_normalized (35080, 9)\n",
      "│   │   ├── BALL_part1_normalized (29801, 9)\n",
      "│   │   ├── EAUV_part1_normalized (34382, 9)\n",
      "│   │   ├── EAUV_part2_normalized (36153, 9)\n",
      "│   │   ├── grimm_20_1_normalized (36659, 9)\n",
      "│   │   ├── grimm_20_2_normalized (40055, 9)\n",
      "│   │   ├── grimm_23_1_normalized (30309, 9)\n",
      "│   │   ├── grimm_23_2_normalized (33287, 9)\n",
      "│   │   ├── grimm_23_3_normalized (30292, 9)\n"
     ]
    }
   ],
   "source": [
    "list_h5_data(\"../data/stim/predictors.hdf5\", max_depth=4)"
   ]
  },
  {
   "cell_type": "markdown",
   "id": "d7eca2d8",
   "metadata": {},
   "source": [
    "We can see that the stimulus feature file `predictors.hdf5` contains a matrix of feature per story, organised under two keys: `acoustic` and `wordlevel`. The former contains the smooth continuous feature (only envelop here), while the latter contains impulse-like time series of word-level features. \n",
    "\n",
    "We can also observe that word level features are matrices with 9 columns. These map to the following features (in that order):\n",
    "\n",
    "- Always on feature\n",
    "    - word onset\n",
    "- Valued features\n",
    "    - surprisal\n",
    "    - entorpy\n",
    "    - KL divergence\n",
    "    - prediction error (= surprisal weighted by precision ~1/entropy)\n",
    "    - word frequency\n",
    "    - depth in constituency tree\n",
    "    - number of closing branches for current word\n",
    "    - number of opening branches for current word"
   ]
  },
  {
   "cell_type": "markdown",
   "id": "2e196c7a",
   "metadata": {},
   "source": [
    "## Read in stimulus features"
   ]
  },
  {
   "cell_type": "code",
   "execution_count": 2,
   "id": "23793786",
   "metadata": {},
   "outputs": [],
   "source": [
    "from utils.utils import get_feature_signal, STORY_IDs, storynames"
   ]
  },
  {
   "cell_type": "code",
   "execution_count": 130,
   "id": "cf050775",
   "metadata": {},
   "outputs": [],
   "source": [
    "subject = 'sub-003'\n",
    "events = mne.read_events(f'../data/{subject}/audioBook-eve.fif')"
   ]
  },
  {
   "cell_type": "code",
   "execution_count": 131,
   "id": "fc6a6259",
   "metadata": {},
   "outputs": [
    {
     "name": "stdout",
     "output_type": "stream",
     "text": [
      "Load stimulus features\n",
      "Loading feature signal for : ['acoustic', 'wordonsets']\n",
      "Done. X shape: (29800, 2)\n"
     ]
    },
    {
     "data": {
      "text/plain": [
       "Text(0.5, 1.0, 'Features for story: Anderson_S01_P01')"
      ]
     },
     "execution_count": 131,
     "metadata": {},
     "output_type": "execute_result"
    },
    {
     "data": {
      "image/png": "[encoded data removed]",
      "text/plain": [
       "<Figure size 640x480 with 1 Axes>"
      ]
     },
     "metadata": {},
     "output_type": "display_data"
    }
   ],
   "source": [
    "# Loading features:\n",
    "X = get_feature_signal(normalise=None) # By default, loads envelope and word onsets\n",
    "\n",
    "# Visualisation\n",
    "story_id = 0\n",
    "lines = plt.plot(X[story_id][:100*10, :])\n",
    "plt.legend(lines, ['Acoustic Envelope', 'Word onsets'])\n",
    "plt.xlabel('Samples')\n",
    "plt.title(f'Features for story: {storynames[story_id].strip('_normalized')}')"
   ]
  },
  {
   "cell_type": "code",
   "execution_count": 132,
   "id": "0cb92f3f",
   "metadata": {},
   "outputs": [],
   "source": [
    "def story_to_triggers(story):\n",
    "    \"\"\"\n",
    "    Returns trigger onset and offset values.\n",
    "\n",
    "    Parameters\n",
    "    ----------\n",
    "    story : str\n",
    "        Story part name (e.g. \"Anderson_S01_P01_normalized\")\n",
    "\n",
    "    Returns\n",
    "    -------\n",
    "    tuple (int, int)\n",
    "        Onset and offset event ids for this story.\n",
    "\n",
    "    \"\"\"\n",
    "    id_story = {v:k for k,v in STORY_IDs.items()}\n",
    "    sid = str(id_story[story])\n",
    "    return int('1' + sid[::-1]), int('2' + sid[::-1])\n",
    "\n",
    "def get_story_sample_onsets(events, fs_eve=200, sample=False):\n",
    "    \"Returns onset of stories given an `events` input: if sample is True give the exact sample index, otherwise gives time of story onset\"\n",
    "    id_story = {v:k for k,v in STORY_IDs.items()}\n",
    "    onsets = {}\n",
    "    for s in id_story:\n",
    "        trig = story_to_triggers(s)[0]\n",
    "        onsets[s] = events[np.where(events[:, 2] == trig)[0][0]][0]\n",
    "        if not sample:\n",
    "            onsets[s] /= fs_eve\n",
    "    return onsets"
   ]
  },
  {
   "cell_type": "code",
   "execution_count": 133,
   "id": "b0a567d0",
   "metadata": {},
   "outputs": [
    {
     "data": {
      "text/plain": [
       "{'Anderson_S01_P01_normalized': np.float64(3705.595),\n",
       " 'Anderson_S01_P02_normalized': np.float64(4063.845),\n",
       " 'Anderson_S01_P03_normalized': np.float64(4446.615),\n",
       " 'Anderson_S01_P04_normalized': np.float64(4785.51),\n",
       " 'grimm_23_1_normalized': np.float64(15.4),\n",
       " 'grimm_23_2_normalized': np.float64(383.85),\n",
       " 'grimm_23_3_normalized': np.float64(767.485),\n",
       " 'grimm_20_1_normalized': np.float64(1873.72),\n",
       " 'grimm_20_2_normalized': np.float64(2332.685),\n",
       " 'EAUV_part1_normalized': np.float64(2789.15),\n",
       " 'EAUV_part2_normalized': np.float64(3244.12),\n",
       " 'ANGE_part1_normalized': np.float64(1502.76),\n",
       " 'BALL_part1_normalized': np.float64(1128.16)}"
      ]
     },
     "execution_count": 133,
     "metadata": {},
     "output_type": "execute_result"
    }
   ],
   "source": [
    "get_story_sample_onsets(events)"
   ]
  },
  {
   "cell_type": "markdown",
   "id": "7bc63999",
   "metadata": {},
   "source": [
    "## Read MEG data"
   ]
  },
  {
   "cell_type": "code",
   "execution_count": 134,
   "id": "3b7d6d7e",
   "metadata": {},
   "outputs": [],
   "source": [
    "import mne\n",
    "import numpy as np\n",
    "from utils.utils import normalize_complex"
   ]
  },
  {
   "cell_type": "code",
   "execution_count": null,
   "id": "51ea954d",
   "metadata": {},
   "outputs": [
    {
     "name": "stdout",
     "output_type": "stream",
     "text": [
      "Opening raw data file ../data/sub-003/audioBook-filtered-ICAed-raw.fif...\n",
      "    Read 5 compensation matrices\n",
      "    Range : 94854 ... 1122715 =    474.270 ...  5613.575 secs\n",
      "Ready.\n",
      "Current compensation grade : 0\n",
      "Reading 0 ... 1027861  =      0.000 ...  5139.305 secs...\n",
      "Removing 5 compensators from info because not all compensation channels were picked.\n"
     ]
    }
   ],
   "source": [
    "raw = mne.io.read_raw(f'../data/{subject}/audioBook-filtered-ICAed-raw.fif', preload=True)\n",
    "raw = raw.pick(mne.channels.channels._picks_to_idx(raw.info, 'meg', with_ref_meg=False))\n",
    "# raw = raw.pick(meg=True, ref_meg=False)\n",
    "raw = raw.resample(100)\n",
    "print(raw._data.shape)"
   ]
  },
  {
   "cell_type": "markdown",
   "id": "15ee9384",
   "metadata": {},
   "source": [
    "Now we will extract the amplitude of high-frequency component and phase of low frequency component, in order to build the compound analytical signal $z(t) = \\rho_{high}e^{i\\phi_{low}(t)} \\in \\mathbb{C}$. We will use this signal to extract the PAC from the continuous signal, based on the Mean Vector Length metric (Canolty et al. (2006)).\n",
    "\n",
    "As a reminder, for trial-based design, the latter metric is computed as follows:\n",
    "\n",
    "$$\n",
    "C(\\delta, \\beta) = | \\frac{1}{N}\\sum_{i=1}^N{\\rho_{\\beta}(t)e^{i\\theta(t)}} |\n",
    "$$\n",
    "\n",
    "Working by analogy with how the TRF on raw M/EEG signal exactly recovers ERPs for events that are \"well separated\", we will compute the TRF on the compound analytical signal $z(t)$ to recover the PAC of different stimulus features."
   ]
  },
  {
   "cell_type": "code",
   "execution_count": null,
   "id": "e25a1025",
   "metadata": {},
   "outputs": [
    {
     "name": "stdout",
     "output_type": "stream",
     "text": [
      "Filtering raw data in 1 contiguous segment\n",
      "Setting up band-pass filter from 4 - 7 Hz\n",
      "\n",
      "FIR filter parameters\n",
      "---------------------\n",
      "Designing a one-pass, zero-phase, non-causal bandpass filter:\n",
      "- Windowed time-domain design (firwin) method\n",
      "- Hamming window with 0.0194 passband ripple and 53 dB stopband attenuation\n",
      "- Lower passband edge: 4.00\n",
      "- Lower transition bandwidth: 2.00 Hz (-6 dB cutoff frequency: 3.00 Hz)\n",
      "- Upper passband edge: 7.00 Hz\n",
      "- Upper transition bandwidth: 2.00 Hz (-6 dB cutoff frequency: 8.00 Hz)\n",
      "- Filter length: 165 samples (1.650 s)\n",
      "\n"
     ]
    },
    {
     "name": "stderr",
     "output_type": "stream",
     "text": [
      "[Parallel(n_jobs=1)]: Done  17 tasks      | elapsed:    0.2s\n",
      "[Parallel(n_jobs=1)]: Done  71 tasks      | elapsed:    1.1s\n",
      "[Parallel(n_jobs=1)]: Done 161 tasks      | elapsed:    2.5s\n"
     ]
    },
    {
     "name": "stdout",
     "output_type": "stream",
     "text": [
      "Filtering raw data in 1 contiguous segment\n",
      "Setting up band-pass filter from 30 - 49 Hz\n",
      "\n",
      "FIR filter parameters\n",
      "---------------------\n",
      "Designing a one-pass, zero-phase, non-causal bandpass filter:\n",
      "- Windowed time-domain design (firwin) method\n",
      "- Hamming window with 0.0194 passband ripple and 53 dB stopband attenuation\n",
      "- Lower passband edge: 30.00\n",
      "- Lower transition bandwidth: 7.50 Hz (-6 dB cutoff frequency: 26.25 Hz)\n",
      "- Upper passband edge: 49.00 Hz\n",
      "- Upper transition bandwidth: 1.00 Hz (-6 dB cutoff frequency: 49.50 Hz)\n",
      "- Filter length: 331 samples (3.310 s)\n",
      "\n"
     ]
    },
    {
     "name": "stderr",
     "output_type": "stream",
     "text": [
      "[Parallel(n_jobs=1)]: Done  17 tasks      | elapsed:    0.1s\n",
      "[Parallel(n_jobs=1)]: Done  71 tasks      | elapsed:    0.7s\n",
      "[Parallel(n_jobs=1)]: Done 161 tasks      | elapsed:    1.6s\n"
     ]
    }
   ],
   "source": [
    "compute_pac = True\n",
    "\n",
    "if compute_pac:\n",
    "    raise NotImplemented(\"Fill in the code here to compute the analytical signal of the MEG data.\")\n",
    "else:\n",
    "    analytical = raw\n",
    "    analytical.filter(0.5, 12)"
   ]
  },
  {
   "cell_type": "code",
   "execution_count": null,
   "id": "ae82fd96",
   "metadata": {},
   "outputs": [],
   "source": [
    "# # Free up Memory\n",
    "# if compute_pac:\n",
    "#     del raw, amp_data, phase_data"
   ]
  },
  {
   "cell_type": "markdown",
   "id": "7590ec03",
   "metadata": {},
   "source": [
    "Now let's put all snippet of MEG data in a list, ordered according to story names, thus aligned with our features list."
   ]
  },
  {
   "cell_type": "code",
   "execution_count": null,
   "id": "90930d63",
   "metadata": {},
   "outputs": [
    {
     "name": "stdout",
     "output_type": "stream",
     "text": [
      "Load stimulus features\n",
      "Loading feature signal for : ['acoustic', 'wordonsets']\n",
      "Done. X shape: (29800, 2)\n"
     ]
    }
   ],
   "source": [
    "fs = analytical.info['sfreq']\n",
    "onsets_per_story = get_story_sample_onsets(events)\n",
    "X = get_feature_signal(stories=storynames[:9])\n",
    "\n",
    "def get_meg_list_per_story(story_onsets: dict, feat_list: List[NDArray], fs=100) -> List[NDArray]:\n",
    "    Y = []\n",
    "    for k, s in enumerate(storynames[:len(feat_list)]):\n",
    "        tstart = story_onsets[s]\n",
    "        start_sample = int(np.round(tstart * fs))\n",
    "        end_sample = start_sample + len(feat_list[k])\n",
    "        Y.append(analytical._data.T[start_sample:end_sample]) # Sample first\n",
    "    return Y"
   ]
  },
  {
   "cell_type": "code",
   "execution_count": null,
   "id": "bed2207b",
   "metadata": {},
   "outputs": [],
   "source": [
    "Y = get_meg_list_per_story(onsets_per_story, X)"
   ]
  },
  {
   "cell_type": "markdown",
   "id": "6a6d11c4",
   "metadata": {},
   "source": [
    "## Compute TRF\n",
    "\n",
    "We will use a handy wrapper around the code seen in part 1 of the tutorial to handle the list of story data efficiently and get some quick plotting functions."
   ]
  },
  {
   "cell_type": "code",
   "execution_count": null,
   "id": "da45c56e",
   "metadata": {},
   "outputs": [],
   "source": [
    "from pyeeg.models import TRFEstimator\n",
    "# Call TRFEstimator as `trf = TRFEstimator(tmin=..., tmax=..., srate=..., alpha=...)`\n",
    "# Then Fit with `trf.fit(X, Y)`, note that X and Y can be list if each element of the list has the same number of samples\n",
    "# You can plot coefficient with `trf.plot()` which returns a plt.Figure object."
   ]
  },
  {
   "cell_type": "code",
   "execution_count": null,
   "id": "f5c54b6b",
   "metadata": {},
   "outputs": [],
   "source": [
    "# Fit and plot the PAC TRF for word onsets, surprisal and entropy."
   ]
  }
 ],
 "metadata": {
  "kernelspec": {
   "display_name": "meeg",
   "language": "python",
   "name": "python3"
  },
  "language_info": {
   "codemirror_mode": {
    "name": "ipython",
    "version": 3
   },
   "file_extension": ".py",
   "mimetype": "text/x-python",
   "name": "python",
   "nbconvert_exporter": "python",
   "pygments_lexer": "ipython3",
   "version": "3.12.10"
  }
 },
 "nbformat": 4,
 "nbformat_minor": 5
}
